{
 "cells": [
  {
   "cell_type": "code",
   "execution_count": 1,
   "metadata": {},
   "outputs": [],
   "source": [
    "from lxml import etree\n",
    "import random"
   ]
  },
  {
   "cell_type": "code",
   "execution_count": 2,
   "metadata": {},
   "outputs": [],
   "source": [
    "# constants\n",
    "SOURCE_FILEPATH = \"../assets/usa_counties.svg\"\n",
    "OUTPUT_FILEPATH = \"output.svg\""
   ]
  },
  {
   "cell_type": "code",
   "execution_count": 9,
   "metadata": {},
   "outputs": [],
   "source": [
    "def getRandomColorValue():\n",
    "    return random.randint(0,255)"
   ]
  },
  {
   "cell_type": "code",
   "execution_count": 19,
   "metadata": {},
   "outputs": [],
   "source": [
    "class County:\n",
    "    def __init__(self, county):\n",
    "        self.county = county\n",
    "\n",
    "    def set_fill(self, r: int, g: int, b: int):\n",
    "        self.county.attrib[\"fill\"] = \"rgb(\" + str(r) + \",\" + str(g) + \",\" + str(b) + \")\"\n",
    "\n",
    "    def set_title(self, title):\n",
    "        self.county[0].text = title\n",
    "\n",
    "class CountyMap:\n",
    "    def __init__(self, source_filepath, output_filepath):\n",
    "        self.svg_root = etree.parse(source_filepath).getroot()\n",
    "        self.g_root = self.svg_root[2]\n",
    "        self.output_filepath = output_filepath\n",
    "\n",
    "    def __get_counties(self):\n",
    "        if hasattr(self, \"counties\"):\n",
    "            return self.counties\n",
    "        counties = []\n",
    "        for state in self.g_root:\n",
    "            for county in state:\n",
    "                counties.append(County(county))\n",
    "        self.counties = counties\n",
    "        return self.counties\n",
    "    \n",
    "    # run a function on each county\n",
    "    def for_each_county(self, func: callable):\n",
    "        for county in self.__get_counties():\n",
    "            func(county)\n",
    "\n",
    "    def save_svg(self):\n",
    "        with open(self.output_filepath, \"wb\") as f:\n",
    "            f.write(etree.tostring(self.svg_root))\n",
    "            print(\"Saved to \" + self.output_filepath)\n"
   ]
  },
  {
   "cell_type": "code",
   "execution_count": 14,
   "metadata": {},
   "outputs": [],
   "source": [
    "def update_county_to_random_color(county):\n",
    "    county.set_fill(getRandomColorValue(), getRandomColorValue(), getRandomColorValue())"
   ]
  },
  {
   "cell_type": "code",
   "execution_count": 15,
   "metadata": {},
   "outputs": [],
   "source": [
    "def update_county_title(county):\n",
    "    county.set_title(\"test\")"
   ]
  },
  {
   "cell_type": "code",
   "execution_count": 20,
   "metadata": {},
   "outputs": [
    {
     "name": "stdout",
     "output_type": "stream",
     "text": [
      "Saved to output.svg\n"
     ]
    }
   ],
   "source": [
    "county_map = CountyMap(SOURCE_FILEPATH, OUTPUT_FILEPATH)\n",
    "county_map.for_each_county(update_county_to_random_color)\n",
    "county_map.for_each_county(update_county_title)\n",
    "county_map.save_svg()"
   ]
  }
 ],
 "metadata": {
  "kernelspec": {
   "display_name": "Python 3",
   "language": "python",
   "name": "python3"
  },
  "language_info": {
   "codemirror_mode": {
    "name": "ipython",
    "version": 3
   },
   "file_extension": ".py",
   "mimetype": "text/x-python",
   "name": "python",
   "nbconvert_exporter": "python",
   "pygments_lexer": "ipython3",
   "version": "3.12.0"
  },
  "orig_nbformat": 4
 },
 "nbformat": 4,
 "nbformat_minor": 2
}
