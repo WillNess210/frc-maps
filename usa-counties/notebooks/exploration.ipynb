{
 "cells": [
  {
   "cell_type": "code",
   "execution_count": 1,
   "metadata": {},
   "outputs": [],
   "source": [
    "from lxml import etree\n",
    "import random"
   ]
  },
  {
   "cell_type": "code",
   "execution_count": 2,
   "metadata": {},
   "outputs": [],
   "source": [
    "# constants\n",
    "SOURCE_FILEPATH = \"../assets/usa_counties.svg\"\n",
    "OUTPUT_FILEPATH = \"output.svg\""
   ]
  },
  {
   "cell_type": "code",
   "execution_count": 3,
   "metadata": {},
   "outputs": [],
   "source": [
    "def getRandomCssColor():\n",
    "    r = lambda: random.randint(0,255)\n",
    "    return '#%02X%02X%02X' % (r(),r(),r())"
   ]
  },
  {
   "cell_type": "code",
   "execution_count": 7,
   "metadata": {},
   "outputs": [],
   "source": [
    "class CountyMap:\n",
    "    def __init__(self, source_filepath, output_filepath):\n",
    "        self.svg_root = etree.parse(source_filepath).getroot()\n",
    "        self.g_root = self.svg_root[2]\n",
    "        self.output_filepath = output_filepath\n",
    "\n",
    "    def get_counties(self):\n",
    "        counties = []\n",
    "        for state in self.g_root:\n",
    "            for county in state:\n",
    "                counties.append(county)\n",
    "        return counties\n",
    "    \n",
    "    # run a function on each county\n",
    "    def for_each_county(self, func: callable):\n",
    "        for county in self.get_counties():\n",
    "            func(county)\n",
    "\n",
    "    def save_svg(self):\n",
    "        with open(self.output_filepath, \"wb\") as f:\n",
    "            f.write(etree.tostring(self.svg_root))\n",
    "            print(\"Saved to \" + self.output_filepath)\n"
   ]
  },
  {
   "cell_type": "code",
   "execution_count": 5,
   "metadata": {},
   "outputs": [],
   "source": [
    "def updateCountyToRandomColor(county):\n",
    "    county.attrib[\"fill\"] = getRandomCssColor()"
   ]
  },
  {
   "cell_type": "code",
   "execution_count": 8,
   "metadata": {},
   "outputs": [
    {
     "name": "stdout",
     "output_type": "stream",
     "text": [
      "Saved to output.svg\n"
     ]
    }
   ],
   "source": [
    "county_map = CountyMap(SOURCE_FILEPATH, OUTPUT_FILEPATH)\n",
    "county_map.for_each_county(updateCountyToRandomColor)\n",
    "county_map.save_svg()"
   ]
  }
 ],
 "metadata": {
  "kernelspec": {
   "display_name": "Python 3",
   "language": "python",
   "name": "python3"
  },
  "language_info": {
   "codemirror_mode": {
    "name": "ipython",
    "version": 3
   },
   "file_extension": ".py",
   "mimetype": "text/x-python",
   "name": "python",
   "nbconvert_exporter": "python",
   "pygments_lexer": "ipython3",
   "version": "3.12.0"
  },
  "orig_nbformat": 4
 },
 "nbformat": 4,
 "nbformat_minor": 2
}
